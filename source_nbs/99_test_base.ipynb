{
 "cells": [
  {
   "cell_type": "code",
   "execution_count": null,
   "metadata": {},
   "outputs": [],
   "source": [
    "# default_exp test_base\n",
    "%load_ext autoreload\n",
    "%autoreload 2\n",
    "import os\n",
    "os.environ[\"CUDA_VISIBLE_DEVICES\"] = \"-1\""
   ]
  },
  {
   "cell_type": "markdown",
   "metadata": {},
   "source": [
    "# Test Base\n",
    "\n",
    "Basic setup for testing"
   ]
  },
  {
   "cell_type": "code",
   "execution_count": null,
   "metadata": {},
   "outputs": [],
   "source": [
    "# export\n",
    "\n",
    "import shutil\n",
    "import tempfile\n",
    "\n",
    "from bert_multitask_learning.predefined_problems import (\n",
    "    get_weibo_cws_fn, get_weibo_fake_cls_fn, get_weibo_fake_multi_cls_fn,\n",
    "    get_weibo_fake_ner_fn, get_weibo_masklm, get_weibo_pretrain_fn)\n",
    "from bert_multitask_learning.params import BaseParams\n",
    "\n",
    "class TestBase():\n",
    "    def __init__(self):\n",
    "        self.setUp()\n",
    "\n",
    "    def setUp(self) -> None:\n",
    "        self.tmpfiledir = tempfile.mkdtemp()\n",
    "        self.tmpckptdir = tempfile.mkdtemp()\n",
    "        self.prepare_params()\n",
    "\n",
    "    def tearDown(self) -> None:\n",
    "        shutil.rmtree(self.tmpfiledir)\n",
    "        shutil.rmtree(self.tmpckptdir)\n",
    "\n",
    "    def prepare_params(self):\n",
    "\n",
    "        self.problem_type_dict = {\n",
    "            'weibo_fake_ner': 'seq_tag',\n",
    "            'weibo_cws': 'seq_tag',\n",
    "            'weibo_fake_multi_cls': 'multi_cls',\n",
    "            'weibo_fake_cls': 'cls',\n",
    "            'weibo_masklm': 'masklm',\n",
    "            'weibo_pretrain': 'pretrain'\n",
    "        }\n",
    "\n",
    "        self.processing_fn_dict = {\n",
    "            'weibo_fake_ner': get_weibo_fake_ner_fn(file_path='/data/bert-multitask-learning/data/ner/weiboNER*'),\n",
    "            'weibo_cws': get_weibo_cws_fn(file_path='/data/bert-multitask-learning/data/ner/weiboNER*'),\n",
    "            'weibo_fake_cls': get_weibo_fake_cls_fn(file_path='/data/bert-multitask-learning/data/ner/weiboNER*'),\n",
    "            'weibo_fake_multi_cls': get_weibo_fake_multi_cls_fn(file_path='/data/bert-multitask-learning/data/ner/weiboNER*'),\n",
    "            'weibo_masklm': get_weibo_masklm(file_path='/data/bert-multitask-learning/data/ner/weiboNER*'),\n",
    "            'weibo_pretrain': get_weibo_pretrain_fn(file_path='/data/bert-multitask-learning/data/ner/weiboNER*')\n",
    "        }\n",
    "        self.params = BaseParams()\n",
    "        self.params.tmp_file_dir = self.tmpfiledir\n",
    "        self.params.ckpt_dir = self.tmpckptdir\n",
    "        self.params.transformer_model_name = 'voidful/albert_chinese_tiny'\n",
    "        self.params.transformer_config_name = 'voidful/albert_chinese_tiny'\n",
    "        self.params.transformer_tokenizer_name = 'voidful/albert_chinese_tiny'\n",
    "        self.params.transformer_tokenizer_loading = 'BertTokenizer'\n",
    "        self.params.transformer_config_loading = 'AlbertConfig'\n",
    "\n",
    "        self.params.add_multiple_problems(\n",
    "            problem_type_dict=self.problem_type_dict, processing_fn_dict=self.processing_fn_dict)\n"
   ]
  },
  {
   "cell_type": "code",
   "execution_count": null,
   "metadata": {},
   "outputs": [],
   "source": []
  }
 ],
 "metadata": {
  "kernelspec": {
   "display_name": "Python 3",
   "language": "python",
   "name": "python3"
  }
 },
 "nbformat": 4,
 "nbformat_minor": 2
}
